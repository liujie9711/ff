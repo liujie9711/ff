{
 "cells": [
  {
   "cell_type": "code",
   "execution_count": null,
   "metadata": {},
   "outputs": [
    {
     "ename": "",
     "evalue": "",
     "output_type": "error",
     "traceback": [
      "\u001b[1;31mPython 3.7.13 ('mytools') 需要安装 ipykernel。\n",
      "Run the following command to install 'ipykernel' into the Python environment. \n",
      "Command: 'conda install -n mytools ipykernel --update-deps --force-reinstall'"
     ]
    }
   ],
   "source": [
    "a=12\n",
    "c=11"
   ]
  }
 ],
 "metadata": {
  "interpreter": {
   "hash": "4068c9ae31ea6968455844a2d6c47e3b7b31e68fb6ab4b5514a56f4b4b315d2c"
  },
  "kernelspec": {
   "display_name": "Python 3.7.13 ('mytools')",
   "language": "python",
   "name": "python3"
  },
  "language_info": {
   "name": "python",
   "version": "3.7.13"
  },
  "orig_nbformat": 4
 },
 "nbformat": 4,
 "nbformat_minor": 2
}
